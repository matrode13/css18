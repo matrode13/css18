{
 "cells": [
  {
   "cell_type": "markdown",
   "metadata": {},
   "source": [
    "# CSS: Politicians on Wikipedia \n",
    "\n",
    "## Which German politicians are captured on Wikipedia? Does search interest predict existence on Wikipedia?\n",
    "\n",
    "1. Create list of all German politicians between XX and XY\n",
    "2. Analyse search volume of politicians \n",
    "\t- 2.1 Plot distribution of number of countries from which search volume happens for male and female politicians\n",
    "\t- 2.2 Plot number of month during which search volume is above threshold for for male and female politicians\n",
    "3. Binary logistic regression\n",
    "\t- 3.1 Outcome variable: article exists on Wikipedia\n",
    "\t- 3.2 IV: search volume -> number of countries and month\n",
    "\t- 3.3 Control: experience (e.g. how often was a politician already part of parliament)\n",
    "\n",
    "### Answers\n",
    "\n",
    "#### Task 1\n",
    "1. We create a list of all Members of The Bundestag since 2005 until now (2018)\n",
    "    - Bundestag 2005-2009 (Data: https://www.abgeordnetenwatch.de/api/parliament/bundestag%202005-2009/deputies.json)\n",
    "    - Bundestag 2009-2013 (Data: https://www.abgeordnetenwatch.de/api/parliament/bundestag%202009-2013/deputies.json)\n",
    "    - Bundestag 2013-2017 (Data: https://www.abgeordnetenwatch.de/api/parliament/bundestag%202013-2017/deputies.json)\n",
    "    - Bundestag 2017-     (Data: https://www.abgeordnetenwatch.de/api/parliament/bundestag/deputies.json)\n",
    "\n",
    "A copy of the original data will be kept.\n",
    "The Result can be seen in data/memberList.json http://matrode.de:1080/edit/data/memberList.json\n",
    "\n",
    "\n",
    "#### Task 2\n",
    "Instructions:\n",
    "http://matrode.de:1080/view/images/IMG_20180530_113335.jpg\n",
    "http://matrode.de:1080/view/images/IMG_20180530_113353.jpg\n",
    "\n",
    "We decided to measure the intrest (over time and by country) relative to the interest of Angela Merkel(who has the highest interest in the past 5 years). Basically we normalize the data.\n",
    "\n",
    "#### Data Acquisition for Task 2.1 (interest by country) and Task 2.2 (interest by month)\n",
    "For each politician we make a call to the google trends API, thriugh the library pytrends(a newer version is used, so we have to check if it works in binder, in the final submission).\n",
    "\n",
    "<img src=\"images/google_trends_by_region.png\" alt=\"by country\" style=\"width: 400px;\"/>\n",
    "<img src=\"images/google_trends_over_time.png\" alt=\"by country\" style=\"width: 400px;\"/>\n",
    "\n",
    "The results of the data acquisition will be saved via pickle  to:\n",
    "**/data/interest_over_time** http://matrode.de:1080/tree/data/interest_over_time\n",
    "**/data/interest_by_country** http://matrode.de:1080/tree/data/interest_by_country\n",
    "\n",
    "#### Task 2.1 (interest by country)\n",
    "Since Google Trends only gives us relative values, we can not compare the results directly.\n",
    "Here is an Example:\n",
    "\n",
    "Anegla Merkel  http://matrode.de:1080/tree/images/google_trends_by_region_full.png            |  Martin Schulz http://matrode.de:1080/tree/images/google_trends_by_region_full_schulz.png\n",
    ":-------------------------:|:-------------------------:\n",
    "<img src=\"images/google_trends_by_region_full.png\" alt=\"by country\" style=\"width: 500px;\"/>  | <img src=\"images/google_trends_by_region_full_schulz.png\" alt=\"by country\" style=\"width: 500px;\"/>\n",
    "\n",
    "The highest value always is 100. So it is only how distributed the searches are.\n",
    "Since most german politicians have the highest search interest in germany, the search interest is relative to the serach interest in germany.\n",
    "\n",
    "\n",
    "\n",
    "#### Task 2.2 (interest by month)\n",
    "\n",
    "Anegla Merkel  http://matrode.de:1080/tree/images/google_trends_over_time_full.png            |  Martin Schulz http://matrode.de:1080/tree/images/google_trends_over_time_full_schulz.png\n",
    ":-------------------------:|:-------------------------:\n",
    "<img src=\"images/google_trends_over_time_full.png\" alt=\"by country\" style=\"width: 500px;\"/>  | <img src=\"images/google_trends_over_time_full_schulz.png\" alt=\"by country\" style=\"width: 500px;\"/>\n",
    "\n",
    "### Questions\n",
    "- In which format to keep the orginal data?\n",
    "- Should we use the absolute data(the ones given directly) or the relative data(like we did) from Google Trends?\n",
    "- For 2.2: Do we need to make the step towards the probability?\n",
    "\n",
    "### Task 3\n",
    "\n"
   ]
  },
  {
   "cell_type": "markdown",
   "metadata": {},
   "source": [
    "# Setup"
   ]
  },
  {
   "cell_type": "code",
   "execution_count": 153,
   "metadata": {},
   "outputs": [],
   "source": [
    "#create data directory where all data used will be downloaded to\n",
    "import os\n",
    "dataDirectory=\"data/\"\n",
    "timeDirectory=\"interest_over_time\"\n",
    "countryDirectory=\"interest_by_country\"\n",
    "if not os.path.exists(dataDirectory):\n",
    "    os.makedirs(dataDirectory)\n",
    "timePath=os.path.join(dataDirectory, timeDirectory)\n",
    "if not os.path.exists(timePath):\n",
    "    os.makedirs(timePath)\n",
    "countryPath=os.path.join(dataDirectory, countryDirectory)\n",
    "if not os.path.exists(countryPath):\n",
    "    os.makedirs(countryPath)\n",
    "    "
   ]
  },
  {
   "cell_type": "code",
   "execution_count": 154,
   "metadata": {},
   "outputs": [],
   "source": [
    "#we have to find a solution that works in the binder environment\n",
    "#!pip3 uninstall pytrends;cd pytrends;python3 setup.py install"
   ]
  },
  {
   "cell_type": "markdown",
   "metadata": {},
   "source": [
    "# Task 1"
   ]
  },
  {
   "cell_type": "code",
   "execution_count": 155,
   "metadata": {},
   "outputs": [
    {
     "name": "stdout",
     "output_type": "stream",
     "text": [
      "members saved to: data/memberList.json\n"
     ]
    }
   ],
   "source": [
    "#Solution for Task 1: Data Acquisition\n",
    "#get and save from abgeordnetenwatch.de/api to data\n",
    "import requests\n",
    "import urllib\n",
    "import os\n",
    "import json\n",
    "\n",
    "#helper function to convert url to local paths\n",
    "def toLocalPath(url):\n",
    "    return os.path.join(dataDirectory, url.replace(\"/\",\"_\"))\n",
    "\n",
    "parliamentsUrl=\"https://www.abgeordnetenwatch.de/api/parliaments.json\"\n",
    "parliamentsLocal=toLocalPath(parliamentsUrl)\n",
    "\n",
    "#the result of this subtask, a list of parliament members\n",
    "memberList = {}\n",
    "\n",
    "#if we dont have a local copy, create one\n",
    "if (not os.path.isfile(parliamentsLocal)): \n",
    "    #make a local copy of the parliaments list\n",
    "    urllib.request.urlretrieve(parliamentsUrl, parliamentsLocal)\n",
    "    print(\"Saved parliaments: \"+ parliamentsLocal)  \n",
    "\n",
    "\n",
    "with open(parliamentsLocal) as parliamentsJsonFile:\n",
    "    \n",
    "    #load the local copy of the parliaments list file\n",
    "    parliaments = json.load(parliamentsJsonFile)\n",
    "\n",
    "    #iterate parliaments\n",
    "    for parliament in parliaments[\"parliaments\"]:\n",
    "        \n",
    "        #restrict to Bundestag, maybe add more alter\n",
    "        if (\"Bundestag\" in parliament[\"name\"]):\n",
    "            \n",
    "            #get the file pointing to a specific parliament\n",
    "            parliamentMembersUrl=parliamentName=parliament[\"datasets\"][\"deputies\"][\"by-name\"]\n",
    "            parliamentMembersLocal=toLocalPath(parliamentMembersUrl)\n",
    "            \n",
    "            #if we dont have a local copy, create one\n",
    "            if (not os.path.isfile(parliamentMembersLocal)): \n",
    "                #make a local copy of a specific parliament\n",
    "                urllib.request.urlretrieve(parliamentMembersUrl, parliamentMembersLocal)\n",
    "                print(\"Saved parliament: \" + parliament[\"name\"] + \" to \"+ parliamentMembersLocal)\n",
    "            \n",
    "            with open(parliamentMembersLocal) as parliamentMembersJsonFile:          \n",
    "                parliamentMembers = json.load(parliamentMembersJsonFile)\n",
    "                for parliamentMember in parliamentMembers[\"profiles\"]:\n",
    "                    #read desired values\n",
    "                    #we use uuid as id\n",
    "                    uuid=parliamentMember[\"meta\"][\"uuid\"]\n",
    "                    firstName=parliamentMember[\"personal\"][\"first_name\"]\n",
    "                    lastName=parliamentMember[\"personal\"][\"last_name\"]\n",
    "                    gender=parliamentMember[\"personal\"][\"gender\"]\n",
    "\n",
    "                    #test if we already have a member with that uuid in our member list\n",
    "                    if(uuid in memberList):\n",
    "                        #update \"numberOfParliaments\"\n",
    "                        memberList[uuid][\"numberOfParliaments\"]=memberList[uuid][\"numberOfParliaments\"]+1\n",
    "                    else:\n",
    "                        #create new member entry\n",
    "                        memberList[uuid] = {\n",
    "                            \"firstName\" :firstName,\n",
    "                            \"lastName\" :lastName,\n",
    "                            \"gender\" :gender,\n",
    "                            \"numberOfParliaments\":1\n",
    "                        }\n",
    "\n",
    "#Save members list\n",
    "memberListJsonPath=os.path.join(dataDirectory,\"memberList.json\")\n",
    "with open(memberListJsonPath, 'w') as memberListJsonFile:\n",
    "    json.dump(memberList, memberListJsonFile, sort_keys=True, indent=4)\n",
    "\n",
    "print(\"members saved to: \"+memberListJsonPath)"
   ]
  },
  {
   "cell_type": "markdown",
   "metadata": {},
   "source": [
    "# Task2"
   ]
  },
  {
   "cell_type": "markdown",
   "metadata": {},
   "source": [
    "# Data Acquisition for Task 2.1 (Interest by country) and Task 2.2 (Interest over time)"
   ]
  },
  {
   "cell_type": "code",
   "execution_count": 174,
   "metadata": {
    "scrolled": false
   },
   "outputs": [
    {
     "name": "stdout",
     "output_type": "stream",
     "text": [
      ".............................................................................................................................................................................................................................................................................................................................................................................................................................................................................................................................................................................................................................................................................................................................................................................................................................................................................................................................................................................................................................................................................................................................................................................................................................................................................................................................................................................................................................got search interest by country and by time for: 1373 politicians\n"
     ]
    }
   ],
   "source": [
    "#Data Acquisition Task 2.1 and 2.2\n",
    "import os\n",
    "import urllib\n",
    "import json\n",
    "import pickle\n",
    "import pytrends\n",
    "import pandas as pd\n",
    "from pytrends.request import TrendReq\n",
    "\n",
    "dataDirectory=\"data\"\n",
    "#create a new directory for the data/interest_by_country\n",
    "countryDirectory=\"interest_by_country\"\n",
    "timeDirectory=\"interest_over_time\"\n",
    "meberListJsonPath=os.path.join(dataDirectory, \"memberList.json\")\n",
    "\n",
    "#create output data strcuture\n",
    "resultDataFrame = pd.DataFrame(columns=[\"uuid\",\"firstName\", \"lastName\", \"gender\", \"countryCount\", \"timeCount\"])\n",
    "\n",
    "\n",
    "#open members list containing the politicians\n",
    "with open(meberListJsonPath) as meberListJsonFile:\n",
    "    #load the local copy of the parliaments list file\n",
    "    members = json.load(meberListJsonFile)\n",
    "    \n",
    "    #for each politician, represented by the uuid\n",
    "    for memberUuid in members:\n",
    "        \n",
    "        countryPath=os.path.join(dataDirectory, countryDirectory, memberUuid+\".pickle\")\n",
    "        timePath=os.path.join(dataDirectory, timeDirectory, memberUuid+\".pickle\")\n",
    "        #get firstName, lastName and gender\n",
    "        firstName = members[memberUuid][\"firstName\"]\n",
    "        lastName = members[memberUuid][\"lastName\"]\n",
    "        gender = members[memberUuid][\"gender\"]\n",
    "\n",
    "        fullName = firstName +\" \" + lastName\n",
    "        \n",
    "        #if we have no saved file, do a google trebds request\n",
    "        if (not os.path.isfile(countryPath)) and (not os.path.isfile(timePath)): \n",
    "        \n",
    "            print(\"Working on \" +fullName)\n",
    "            pytrends = TrendReq(hl='de-DE', tz=360)\n",
    "            keywords = [fullName, \"Angela Merkel\"]\n",
    "            #cat=396 is the category for politics on google trends\n",
    "            pytrends.build_payload(keywords, cat=396, timeframe='today 5-y', geo='', gprop='')\n",
    "            countryDataframe = pd.DataFrame(pytrends.interest_by_region(resolution='COUNTRY'))\n",
    "            #TODO this get the weeks not the desired month \n",
    "            timeDataframe = pd.DataFrame(pytrends.interest_over_time())\n",
    "            \n",
    "            #save to disk\n",
    "            countryDataframe.to_pickle(countryPath)\n",
    "            timeDataframe.to_pickle(timePath)\n",
    "            \n",
    "            sleep(30)\n",
    "            \n",
    "        #if the a saved file use this    \n",
    "        else:\n",
    "            #print progress\n",
    "            print('.', end='')\n",
    "            countryDataframe=pickle.load(open(countryPath, 'rb')) \n",
    "            timeDataframe=pickle.load(open(timePath, 'rb')) \n",
    "            \n",
    "        #count in how many countries we have a search interest above zero\n",
    "        countryCount=len(countryDataframe[fullName].nonzero()[0])\n",
    "        timeCount=len(timeDataframe[fullName].nonzero()[0])\n",
    "        \n",
    "        #populate dataframe\n",
    "        resultDataFrame = resultDataFrame.append({\n",
    "            \"uuid\": memberUuid,\n",
    "            \"firstName\": firstName,\n",
    "            \"lastName\":lastName,\n",
    "            \"gender\": gender,\n",
    "            \"countryCount\": countryCount,\n",
    "            \"timeCount\": timeCount,\n",
    "        }, ignore_index=True)\n",
    "\n",
    "        \n",
    "#Save members list\n",
    "memberInterestListPath=os.path.join(dataDirectory,\"memberInterestList.pickle\")\n",
    "resultDataFrame.to_pickle(memberInterestListPath)\n",
    "print(\"got search interest by country and by time for: \"+str(len(resultDataFrame.index))+\" politicians\")"
   ]
  },
  {
   "cell_type": "markdown",
   "metadata": {},
   "source": [
    "# Task 2.1 (Interest by country)"
   ]
  },
  {
   "cell_type": "code",
   "execution_count": 171,
   "metadata": {},
   "outputs": [
    {
     "name": "stdout",
     "output_type": "stream",
     "text": [
      "Search interest from 0 countries, female:415 male: 853\n"
     ]
    },
    {
     "data": {
      "image/png": "[encoded data removed]",
      "text/plain": [
       "<matplotlib.figure.Figure at 0x7fbb82dff048>"
      ]
     },
     "metadata": {},
     "output_type": "display_data"
    }
   ],
   "source": [
    "#2.1 Plot the data\n",
    "%matplotlib inline\n",
    "import os\n",
    "import json\n",
    "import pickle\n",
    "import pandas as pd\n",
    "import numpy as np\n",
    "import matplotlib.pyplot as plt\n",
    "\n",
    "#load data\n",
    "dataDirectory=\"data\"\n",
    "df=pickle.load(open(os.path.join(dataDirectory,\"memberInterestList.pickle\"), 'rb')) \n",
    "\n",
    "#combine the dataframes\n",
    "counts=df.groupby([\"countryCount\",\"gender\"])[\"countryCount\"].count().drop([0]).unstack()\n",
    "plot=counts.plot(kind=\"bar\")\n",
    "\n",
    "#set labels\n",
    "plot.set_xlabel(\"Country Count with search interest\")\n",
    "plot.set_ylabel(\"Politician count\")\n",
    "\n",
    "#get ignored values\n",
    "femaleDropped=df[(df.gender==\"female\")][\"countryCount\"].value_counts()[0]\n",
    "maleDropped=df[(df.gender==\"male\")][\"countryCount\"].value_counts()[0]\n",
    "\n",
    "#add a remark that we removed 0 values\n",
    "plt.figtext(.62, .50, \" \"+str(femaleDropped)+ \" female and\\n \"+str(maleDropped)+\" male politians\\n with 0 search\\n interest are excluded\")\n",
    "print(\"Search interest from 0 countries, female:\"+ str(femaleDropped)+\" male: \"+str(maleDropped))"
   ]
  },
  {
   "cell_type": "markdown",
   "metadata": {},
   "source": [
    "# Task 2.2 (interest over time)"
   ]
  },
  {
   "cell_type": "code",
   "execution_count": 179,
   "metadata": {},
   "outputs": [
    {
     "name": "stdout",
     "output_type": "stream",
     "text": [
      "                                   uuid   firstName        lastName  gender  \\\n",
      "0  001007ba-e35a-4e69-9c66-e018823a62ef     Mathias           Stein    male   \n",
      "1  0077079d-5136-4c5a-96c0-ef8ee76ccfe3        Ulli          Nissen  female   \n",
      "2  00c1508c-e69f-4813-9bd9-4607b9d8d9a7  Heidemarie  Wieczorek-Zeul  female   \n",
      "3  00e01ad7-e772-4198-b964-8ae1e5cd7e6c     Florian          Toncar    male   \n",
      "4  014490fc-3403-4255-b92d-175816269937      Ursula  Groden-Kranich  female   \n",
      "\n",
      "  countryCount timeCount  \n",
      "0            0         0  \n",
      "1            0         0  \n",
      "2            0         1  \n",
      "3            0         0  \n",
      "4            0         0  \n"
     ]
    },
    {
     "data": {
      "image/png": "[encoded data removed]",
      "text/plain": [
       "<matplotlib.figure.Figure at 0x7fbb81b30be0>"
      ]
     },
     "metadata": {},
     "output_type": "display_data"
    }
   ],
   "source": [
    "#2.2 Plot the data\n",
    "%matplotlib inline\n",
    "import os\n",
    "import json\n",
    "import pickle\n",
    "import pandas as pd\n",
    "import numpy as np\n",
    "import matplotlib.pyplot as plt\n",
    "\n",
    "#load data\n",
    "dataDirectory=\"data\"\n",
    "df=pickle.load(open(os.path.join(dataDirectory,\"memberInterestList.pickle\"), 'rb')) \n",
    "\n",
    "#split by gender\n",
    "#TODO: im not sure about this\n",
    "df[df[\"timeCount\"]>0].boxplot(column=\"timeCount\",by=\"gender\",showfliers=False)\n",
    "\n",
    "#set labels\n",
    "plot.set_xlabel(\"Gender\")\n",
    "plot.set_ylabel(\"Number of weeks\")\n",
    "\n",
    "#get ignored values\n",
    "femaleDropped=len(df[((df.gender==\"female\") & (df.timeCount==\"0\"))])\n",
    "maleDropped=len(df[((df.gender==\"male\") & (df.timeCount==\"0\"))])\n",
    "\n",
    "#add a remark that we removed 0 values\n",
    "#plt.figtext(.7, .6, \" politians with 0\\n weeks of search\\n interest are\\n excluded\")\n",
    "\n",
    "#print(\"Search interest of 0 weeks, female:\"+ str(femaleDropped)+\" male: \"+str(maleDropped))\n",
    "\n",
    "#debug\n",
    "print(df.head(5))"
   ]
  },
  {
   "cell_type": "markdown",
   "metadata": {},
   "source": [
    "# Code snippet for testing if wiki page exists"
   ]
  },
  {
   "cell_type": "code",
   "execution_count": 149,
   "metadata": {},
   "outputs": [],
   "source": [
    "#Function to test if wiki page exists\n",
    "\n",
    "def wikiPageExists(fristName, lastName, language):\n",
    " #build the query string for the wiki api\n",
    "    payload = {\"action\":\"query\",\n",
    "               \"list\": \"search\",\n",
    "               \"srsearch\":\"{firstName} {lastName}\".format(firstName=firstName, lastName=lastName),\n",
    "               \"format\":\"json\"}\n",
    "    encodedPayload = urlencode(payload)\n",
    "\n",
    "    #build wikipedia api url\n",
    "    ##example document: https://de.wikipedia.org/w/api.php?action=query&list=search&srsearch=Angela+Merkel&format=json\n",
    "    wikiUrl=\"https://{language}.wikipedia.org/w/api.php?{encodedPayload}\".format(language=language, encodedPayload=encodedPayload)\n",
    "\n",
    "    result={}\n",
    "\n",
    "    #we use try to avoid errors if no such page exists\n",
    "    try:\n",
    "        wikiSearch = json.load(urllib.request.urlopen(wikiUrl))\n",
    "\n",
    "        #read the attributes and from wikipedia and put in result of the function\n",
    "        result[\"wikiTitle\"] = wikiSearch[\"query\"][\"search\"][0][\"title\"]\n",
    "        result[\"wikipageId\"] = wikiSearch[\"query\"][\"search\"][0][\"pageid\"]\n",
    "        result[\"wikipageSnippet\"] = wikiSearch[\"query\"][\"search\"][0][\"snippet\"]\n",
    "        #page exists\n",
    "        result[\"exists\"]=True\n",
    "        \n",
    "        #debug\n",
    "        #print(\"Name: {firstName} {lastName}, language: {language} pageid: {pageId}, title: {pageTitle} url: https://{language}.wikipedia.org/wiki/{pageTitleQuoted}\"\n",
    "        #      .format(firstName=firstName, lastName=lastName, language=language, pageId=pageId, pageTitle=pageTitle, pageTitleQuoted=urllib.parse.quote(pageTitle)))\n",
    "\n",
    "        #TODO check if its the right person, maybe use some categories, or search the snippet for information\n",
    "\n",
    "    except IndexError:\n",
    "        #page does not exists\n",
    "        result[\"exists\"]=False\n",
    "        #print(\"Name: {firstName} {lastName}, language: {language} does not exists!\"\n",
    "        #      .format(firstName=firstName, lastName=lastName, language=language ))\n",
    "        \n",
    "    return result\n"
   ]
  },
  {
   "cell_type": "code",
   "execution_count": 150,
   "metadata": {},
   "outputs": [
    {
     "ename": "NameError",
     "evalue": "name 'urlencode' is not defined",
     "output_type": "error",
     "traceback": [
      "\u001b[0;31m---------------------------------------------------------------------------\u001b[0m",
      "\u001b[0;31mNameError\u001b[0m                                 Traceback (most recent call last)",
      "\u001b[0;32m<ipython-input-150-b299acc305b5>\u001b[0m in \u001b[0;36m<module>\u001b[0;34m()\u001b[0m\n\u001b[1;32m      1\u001b[0m \u001b[0;31m#get information from wikipedia\u001b[0m\u001b[0;34m\u001b[0m\u001b[0;34m\u001b[0m\u001b[0m\n\u001b[0;32m----> 2\u001b[0;31m \u001b[0mwikiResult\u001b[0m\u001b[0;34m=\u001b[0m\u001b[0mwikiPageExists\u001b[0m\u001b[0;34m(\u001b[0m\u001b[0;34m\"Angela\"\u001b[0m\u001b[0;34m,\u001b[0m \u001b[0;34m\"Merkel\"\u001b[0m\u001b[0;34m,\u001b[0m \u001b[0;34m\"de\"\u001b[0m\u001b[0;34m)\u001b[0m\u001b[0;34m\u001b[0m\u001b[0m\n\u001b[0m\u001b[1;32m      3\u001b[0m \u001b[0;34m\u001b[0m\u001b[0m\n\u001b[1;32m      4\u001b[0m \u001b[0mwikiResult\u001b[0m\u001b[0;34m[\u001b[0m\u001b[0;34m\"exists\"\u001b[0m\u001b[0;34m]\u001b[0m\u001b[0;34m\u001b[0m\u001b[0m\n\u001b[1;32m      5\u001b[0m \u001b[0mwikiResult\u001b[0m\u001b[0;34m[\u001b[0m\u001b[0;34m\"wikiTitle\"\u001b[0m\u001b[0;34m]\u001b[0m\u001b[0;34m\u001b[0m\u001b[0m\n",
      "\u001b[0;32m<ipython-input-149-8474887c8b58>\u001b[0m in \u001b[0;36mwikiPageExists\u001b[0;34m(fristName, lastName, language)\u001b[0m\n\u001b[1;32m      7\u001b[0m                \u001b[0;34m\"srsearch\"\u001b[0m\u001b[0;34m:\u001b[0m\u001b[0;34m\"{firstName} {lastName}\"\u001b[0m\u001b[0;34m.\u001b[0m\u001b[0mformat\u001b[0m\u001b[0;34m(\u001b[0m\u001b[0mfirstName\u001b[0m\u001b[0;34m=\u001b[0m\u001b[0mfirstName\u001b[0m\u001b[0;34m,\u001b[0m \u001b[0mlastName\u001b[0m\u001b[0;34m=\u001b[0m\u001b[0mlastName\u001b[0m\u001b[0;34m)\u001b[0m\u001b[0;34m,\u001b[0m\u001b[0;34m\u001b[0m\u001b[0m\n\u001b[1;32m      8\u001b[0m                \"format\":\"json\"}\n\u001b[0;32m----> 9\u001b[0;31m     \u001b[0mencodedPayload\u001b[0m \u001b[0;34m=\u001b[0m \u001b[0murlencode\u001b[0m\u001b[0;34m(\u001b[0m\u001b[0mpayload\u001b[0m\u001b[0;34m)\u001b[0m\u001b[0;34m\u001b[0m\u001b[0m\n\u001b[0m\u001b[1;32m     10\u001b[0m \u001b[0;34m\u001b[0m\u001b[0m\n\u001b[1;32m     11\u001b[0m     \u001b[0;31m#build wikipedia api url\u001b[0m\u001b[0;34m\u001b[0m\u001b[0;34m\u001b[0m\u001b[0m\n",
      "\u001b[0;31mNameError\u001b[0m: name 'urlencode' is not defined"
     ]
    }
   ],
   "source": [
    "#get information from wikipedia\n",
    "wikiResult=wikiPageExists(\"Angela\", \"Merkel\", \"de\")\n",
    "\n",
    "wikiResult[\"exists\"]\n",
    "wikiResult[\"wikiTitle\"]"
   ]
  },
  {
   "cell_type": "markdown",
   "metadata": {},
   "source": [
    "# Code snippet for pytrends"
   ]
  },
  {
   "cell_type": "code",
   "execution_count": 180,
   "metadata": {},
   "outputs": [
    {
     "name": "stdout",
     "output_type": "stream",
     "text": [
      "            Angela Merkel  Martin Schulz isPartial\n",
      "date                                              \n",
      "2013-06-09              8              0     False\n",
      "2013-06-16             13              1     False\n",
      "2013-06-23             10              1     False\n",
      "2013-06-30              8              1     False\n",
      "2013-07-07              6              1     False\n",
      "                Angela Merkel  Martin Schulz\n",
      "geoName                                     \n",
      "Afghanistan                 0              0\n",
      "Albania                     0              0\n",
      "Algeria                   100              0\n",
      "American Samoa              0              0\n",
      "Andorra                     0              0\n"
     ]
    }
   ],
   "source": [
    "\n",
    "import pandas as pd\n",
    "import pytrends\n",
    "from pytrends.request import TrendReq\n",
    "\n",
    "pytrends = TrendReq(hl='en', tz=360)\n",
    "kw_list = [\"Angela Merkel\", \"Martin Schulz\"]\n",
    "#cat=396 is the category for politics on google trends, sse here: https://github.com/pat310/google-trends-api/wiki/Google-Trends-Categories\n",
    "pytrends.build_payload(kw_list, cat=396, timeframe='today 5-y', geo='', gprop='')\n",
    "\n",
    "print(pytrends.interest_over_time().head(5))\n",
    "print(pytrends.interest_by_region(resolution='COUNTRY').head(5))\n"
   ]
  },
  {
   "cell_type": "code",
   "execution_count": null,
   "metadata": {},
   "outputs": [],
   "source": []
  }
 ],
 "metadata": {
  "kernelspec": {
   "display_name": "Python 3",
   "language": "python",
   "name": "python3"
  },
  "language_info": {
   "codemirror_mode": {
    "name": "ipython",
    "version": 3
   },
   "file_extension": ".py",
   "mimetype": "text/x-python",
   "name": "python",
   "nbconvert_exporter": "python",
   "pygments_lexer": "ipython3",
   "version": "3.6.4"
  }
 },
 "nbformat": 4,
 "nbformat_minor": 2
}
