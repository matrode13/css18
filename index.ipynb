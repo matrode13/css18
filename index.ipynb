{
 "cells": [
  {
   "cell_type": "markdown",
   "metadata": {},
   "source": [
    "# CSS: Politicians on Wikipedia \n",
    "## Matthias Deisen, Marco Ehl, Esha Agrawal, Vladyslav Vorontsov\n",
    "\n",
    "\n",
    "## RQ1: Which German politicians are captured on Wikipedia?\n",
    "## RQ2: Can we predict the word count of the Wikipedia article?\n",
    "(based on gender, parliament count, interest by country, interest over time)\n",
    "\n",
    "1. Create list of all German politicians between XX and XY\n",
    "2. Analyse search volume of politicians \n",
    "\t- 2.1 Plot distribution of number of countries from which search volume happens for male and female politicians\n",
    "\t- 2.2 Plot number of month during which search volume is above threshold for for male and female politicians\n",
    "3. Linear regression\n",
    "\t- 3.1 Outcome variable: article length on Wikipedia\n",
    "\t- 3.2 IV: gender, parliament count, interest by country, interest over time\n",
    "\t- 3.3 Control: experience (e.g. how often was a politician already part of parliament)\n",
    "\n",
    "### Answers\n",
    "\n",
    "#### Task 1\n",
    "1. We create a list of all Members of The Bundestag since 2005 until now (2018)\n",
    "    - Bundestag 2005-2009 (Data: https://www.abgeordnetenwatch.de/api/parliament/bundestag%202005-2009/deputies.json)\n",
    "    - Bundestag 2009-2013 (Data: https://www.abgeordnetenwatch.de/api/parliament/bundestag%202009-2013/deputies.json)\n",
    "    - Bundestag 2013-2017 (Data: https://www.abgeordnetenwatch.de/api/parliament/bundestag%202013-2017/deputies.json)\n",
    "    - Bundestag 2017-     (Data: https://www.abgeordnetenwatch.de/api/parliament/bundestag/deputies.json)\n",
    "\n",
    "A copy of the original data will be kept.\n",
    "The Result can be seen in data/memberList.json http://matrode.de:1080/edit/data/memberList.json\n",
    "\n",
    "\n",
    "#### Task 2\n",
    "\n",
    "We decided to measure the intrest (over time and by country) relative to the interest of Angela Merkel(who has the highest interest in the past 5 years). Basically we normalize the data.\n",
    "\n",
    "#### Data Acquisition for Task 2.1 (interest by country) and Task 2.2 (interest by month)\n",
    "For each politician we make a call to the google trends API, through the library pytrends(a newer version is used, so we have to check if it works in binder, in the final submission).\n",
    "\n",
    "<img src=\"images/google_trends_by_region.png\" alt=\"by country\" style=\"width: 400px;\"/>\n",
    "<img src=\"images/google_trends_over_time.png\" alt=\"by country\" style=\"width: 400px;\"/>\n",
    "\n",
    "The results of the data acquisition will be saved via pickle  to:\n",
    "**/data/interest_over_time** http://matrode.de:1080/tree/data/interest_over_time\n",
    "**/data/interest_by_country** http://matrode.de:1080/tree/data/interest_by_country\n",
    "\n",
    "#### Task 2.1 (interest by country)\n",
    "Since Google Trends only gives us relative values, we can not compare the results directly.\n",
    "Here is an Example:\n",
    "\n",
    "Anegla Merkel  http://matrode.de:1080/tree/images/google_trends_by_region_full.png            |  Martin Schulz http://matrode.de:1080/tree/images/google_trends_by_region_full_schulz.png\n",
    ":-------------------------:|:-------------------------:\n",
    "<img src=\"images/google_trends_by_region_full.png\" alt=\"by country\" style=\"width: 500px;\"/>  | <img src=\"images/google_trends_by_region_full_schulz.png\" alt=\"by country\" style=\"width: 500px;\"/>\n",
    "\n",
    "The highest value always is 100. So it is only how distributed the searches are.\n",
    "Since most german politicians have the highest search interest in germany, the search interest is relative to the serach interest in germany.\n",
    "\n",
    "\n",
    "\n",
    "#### Task 2.2 (interest by month)\n",
    "\n",
    "Anegla Merkel  http://matrode.de:1080/tree/images/google_trends_over_time_full.png            |  Martin Schulz http://matrode.de:1080/tree/images/google_trends_over_time_full_schulz.png\n",
    ":-------------------------:|:-------------------------:\n",
    "<img src=\"images/google_trends_over_time_full.png\" alt=\"by country\" style=\"width: 500px;\"/>  | <img src=\"images/google_trends_over_time_full_schulz.png\" alt=\"by country\" style=\"width: 500px;\"/>\n",
    "\n",
    "\n",
    "### Task 3\n",
    "\n",
    "#### 3.1 Outcome variable: article exists on Wikipedia -> article length\n",
    "Since all  german politicians of the last 4 parliamants are covered on wikipedia, we changed the from the binary outcome variable exists or not to article length.\n",
    "\n",
    "The wordcount data is taken from the Wikipedia api: https://en.wikipedia.org/w/api.php\n",
    "\n",
    "Example call: https://de.wikipedia.org/w/api.php?action=query&list=search&srsearch=Angela+Merkel&format=json \n",
    "<img src=\"images/wikiResult.png\" alt=\"by country\" style=\"width: 500px;\"/>\n",
    "\n",
    "\n",
    "##### Independent Variables\n",
    "\n",
    "timeCount (Number of weeks the search interest if above 1)\n",
    "countryCount (Number of countries where the search interest is above 1)\n",
    "gender\n",
    "parliamentCount (Number of parliaments the member was in)\n",
    "constant \n",
    "\n",
    "\n",
    "##### Dependent Variable\n",
    "y_wordCount Article length (as described above)\n",
    "\n",
    "y_wordCount = beta_0 + beta_1 * timeCount + beta_2 * countryCount + beta_3 * gender + beta_4 * parliamentCount\n",
    "\n",
    "\n",
    "## Results to the reasearch questions\n",
    "### Which German politicians are captured on Wikipedia?\n",
    "\n",
    "All German politicians(MdB) are covered on Wikipedia.\n",
    "\n",
    "Does search interest predict existence on Wikipedia?\n",
    "\n",
    "We cannot make a statement about this.\n",
    "\n",
    "### Can we predict the word count of the Wikipedia article?\n",
    "(based on gender, parliament count, interest by country, interest over time)\n",
    "\n",
    "Yes, we can predict the word count as shown before.\n",
    "\n",
    "But, we have high variance in the prediction\n",
    "\n",
    "And, the search interest over time is not relevant to the model. "
   ]
  },
  {
   "cell_type": "code",
   "execution_count": null,
   "metadata": {},
   "outputs": [],
   "source": []
  },
  {
   "cell_type": "markdown",
   "metadata": {},
   "source": [
    "# Setup (create folder structure for cached files)"
   ]
  },
  {
   "cell_type": "code",
   "execution_count": 1,
   "metadata": {},
   "outputs": [],
   "source": [
    "#create data directory where all data used will be downloaded to\n",
    "import os\n",
    "dataDirectory=\"data/\"\n",
    "timeDirectory=\"interest_over_time\"\n",
    "countryDirectory=\"interest_by_country\"\n",
    "if not os.path.exists(dataDirectory):\n",
    "    os.makedirs(dataDirectory)\n",
    "timePath=os.path.join(dataDirectory, timeDirectory)\n",
    "if not os.path.exists(timePath):\n",
    "    os.makedirs(timePath)\n",
    "countryPath=os.path.join(dataDirectory, countryDirectory)\n",
    "if not os.path.exists(countryPath):\n",
    "    os.makedirs(countryPath)\n",
    "    "
   ]
  },
  {
   "cell_type": "code",
   "execution_count": 2,
   "metadata": {},
   "outputs": [],
   "source": [
    "#export conda environment for binder\n",
    "#!conda env export --name root > environment.yml"
   ]
  },
  {
   "cell_type": "markdown",
   "metadata": {},
   "source": [
    "# Task 1\n",
    "1. We create a list of all Members of The Bundestag since 2005 until now (2018)\n",
    "    - Bundestag 2005-2009 (Data: https://www.abgeordnetenwatch.de/api/parliament/bundestag%202005-2009/deputies.json)\n",
    "    - Bundestag 2009-2013 (Data: https://www.abgeordnetenwatch.de/api/parliament/bundestag%202009-2013/deputies.json)\n",
    "    - Bundestag 2013-2017 (Data: https://www.abgeordnetenwatch.de/api/parliament/bundestag%202013-2017/deputies.json)\n",
    "    - Bundestag 2017-     (Data: https://www.abgeordnetenwatch.de/api/parliament/bundestag/deputies.json)\n",
    "\n",
    "A copy of the original data will be kept.\n",
    "The Result can be seen in data/memberList.json http://matrode.de:1080/edit/data/memberList.json"
   ]
  },
  {
   "cell_type": "markdown",
   "metadata": {},
   "source": [
    "\n",
    "# We created a function for testing if wiki page exists and get the word count"
   ]
  },
  {
   "cell_type": "code",
   "execution_count": 3,
   "metadata": {},
   "outputs": [],
   "source": [
    "import urllib\n",
    "\n",
    "#Function to test if wiki page exists\n",
    "def getWikiResult(fristName, lastName, language):\n",
    "    #build the query string for the wiki api\n",
    "    payload = {\"action\":\"query\",\n",
    "               \"list\": \"search\",\n",
    "               \"srsearch\":\"{firstName} {lastName}\".format(firstName=firstName, lastName=lastName),\n",
    "               \"format\":\"json\"}\n",
    "    encodedPayload = urllib.parse.urlencode(payload)\n",
    "\n",
    "    #build wikipedia api url\n",
    "    ##example document: https://de.wikipedia.org/w/api.php?action=query&list=search&srsearch=Angela+Merkel&format=json\n",
    "    wikiUrl=\"https://{language}.wikipedia.org/w/api.php?{encodedPayload}\".format(language=language, encodedPayload=encodedPayload)\n",
    "\n",
    "    #print(wikiUrl)\n",
    "    \n",
    "    result={}\n",
    "\n",
    "    #we use try to avoid errors if no such page exists\n",
    "    try:\n",
    "        wikiSearch = json.load(urllib.request.urlopen(wikiUrl))\n",
    "\n",
    "        #read the attributes and from wikipedia and put in result of the function\n",
    "        result[\"wikiTitle\"] = wikiSearch[\"query\"][\"search\"][0][\"title\"]\n",
    "        result[\"wikipageId\"] = wikiSearch[\"query\"][\"search\"][0][\"pageid\"]\n",
    "        result[\"wikipageSnippet\"] = wikiSearch[\"query\"][\"search\"][0][\"snippet\"]\n",
    "        result[\"wikipageWordCount\"] = wikiSearch[\"query\"][\"search\"][0][\"wordcount\"]\n",
    "        #page exists\n",
    "        result[\"exists\"]=True\n",
    "        \n",
    "        #possibly improvement: check if its the right person, maybe use some categories, or search the snippet for information\n",
    "\n",
    "    except IndexError:\n",
    "        #page does not exists\n",
    "        result[\"exists\"]=False\n",
    "        \n",
    "    return result\n"
   ]
  },
  {
   "cell_type": "markdown",
   "metadata": {},
   "source": [
    "# Task 1: Data Acquisition\n",
    "- get parliaments (from abgeordnetenwatch.de/api)  \n",
    "  -   for each parliament lookup members  (from abgeordnetenwatch.de/api)\n",
    "    -     for each member test wikipedia page existence and get wordcount (https://en.wikipedia.org/w/api.php)"
   ]
  },
  {
   "cell_type": "code",
   "execution_count": 4,
   "metadata": {},
   "outputs": [
    {
     "name": "stdout",
     "output_type": "stream",
     "text": [
      "members saved to: data/memberList.json\n"
     ]
    }
   ],
   "source": [
    "#Solution for Task 1: Data Acquisition\n",
    "#get and save from abgeordnetenwatch.de/api to data\n",
    "import requests\n",
    "import urllib\n",
    "import os\n",
    "import json\n",
    "\n",
    "#helper function to convert url to local paths\n",
    "def toLocalPath(url):\n",
    "    return os.path.join(dataDirectory, url.replace(\"/\",\"_\"))\n",
    "\n",
    "parliamentsUrl=\"https://www.abgeordnetenwatch.de/api/parliaments.json\"\n",
    "parliamentsLocal=toLocalPath(parliamentsUrl)\n",
    "\n",
    "#the result of this subtask, a list of parliament members\n",
    "memberList = {}\n",
    "\n",
    "language=\"de\"\n",
    "\n",
    "#if we dont have a local copy, create one\n",
    "if (not os.path.isfile(parliamentsLocal)): \n",
    "    #make a local copy of the parliaments list\n",
    "    urllib.request.urlretrieve(parliamentsUrl, parliamentsLocal)\n",
    "    print(\"Saved parliaments: \"+ parliamentsLocal)  \n",
    "\n",
    "\n",
    "with open(parliamentsLocal) as parliamentsJsonFile:\n",
    "    \n",
    "    #load the local copy of the parliaments list file\n",
    "    parliaments = json.load(parliamentsJsonFile)\n",
    "\n",
    "    #iterate parliaments\n",
    "    for parliament in parliaments[\"parliaments\"]:\n",
    "        \n",
    "        #restrict to Bundestag, maybe add more later\n",
    "        if (\"Bundestag\" in parliament[\"name\"]):\n",
    "            \n",
    "            #get the file pointing to a specific parliament\n",
    "            parliamentMembersUrl=parliamentName=parliament[\"datasets\"][\"deputies\"][\"by-name\"]\n",
    "            parliamentMembersLocal=toLocalPath(parliamentMembersUrl)\n",
    "            \n",
    "            #if we dont have a local copy, create one\n",
    "            if (not os.path.isfile(parliamentMembersLocal)): \n",
    "                #make a local copy of a specific parliament\n",
    "                urllib.request.urlretrieve(parliamentMembersUrl, parliamentMembersLocal)\n",
    "                print(\"Saved parliament: \" + parliament[\"name\"] + \" to \"+ parliamentMembersLocal)\n",
    "            \n",
    "            with open(parliamentMembersLocal) as parliamentMembersJsonFile:          \n",
    "                parliamentMembers = json.load(parliamentMembersJsonFile)\n",
    "                for parliamentMember in parliamentMembers[\"profiles\"]:\n",
    "                    #read desired values\n",
    "                    #we use uuid as id\n",
    "                    uuid=parliamentMember[\"meta\"][\"uuid\"]\n",
    "                    firstName=parliamentMember[\"personal\"][\"first_name\"]\n",
    "                    lastName=parliamentMember[\"personal\"][\"last_name\"]\n",
    "                    gender=parliamentMember[\"personal\"][\"gender\"]\n",
    "\n",
    "                    \n",
    "                    \n",
    "                    #test if we already have a member with that uuid in our member list\n",
    "                    if(uuid in memberList):\n",
    "                        #update \"numberOfParliaments\"\n",
    "                        memberList[uuid][\"numberOfParliaments\"]=memberList[uuid][\"numberOfParliaments\"]+1\n",
    "                    else:\n",
    "                        \n",
    "                        #get page existance and wordcount from wikipedia\n",
    "                        wikiResult=getWikiResult(firstName, lastName, language)\n",
    "                        \n",
    "                        #create new member entry\n",
    "                        memberList[uuid] = {\n",
    "                            \"firstName\" :firstName,\n",
    "                            \"lastName\" :lastName,\n",
    "                            \"gender\" :gender,\n",
    "                            \"wikipageExists\": wikiResult[\"exists\"],\n",
    "                            \"wikipageWordCount\": wikiResult[\"wikipageWordCount\"],\n",
    "                            \"numberOfParliaments\":1\n",
    "                        }\n",
    "\n",
    "#Save members list\n",
    "memberListJsonPath=os.path.join(dataDirectory,\"memberList.json\")\n",
    "with open(memberListJsonPath, 'w') as memberListJsonFile:\n",
    "    json.dump(memberList, memberListJsonFile, sort_keys=True, indent=4)\n",
    "\n",
    "print(\"members saved to: \"+memberListJsonPath)"
   ]
  },
  {
   "cell_type": "markdown",
   "metadata": {},
   "source": [
    "# Task2"
   ]
  },
  {
   "cell_type": "markdown",
   "metadata": {},
   "source": [
    "# Data Acquisition for Task 2.1 (Interest by country) and Task 2.2 (Interest over time)"
   ]
  },
  {
   "cell_type": "code",
   "execution_count": 5,
   "metadata": {
    "scrolled": false
   },
   "outputs": [
    {
     "name": "stdout",
     "output_type": "stream",
     "text": [
      ".............................................................................................................................................................................................................................................................................................................................................................................................................................................................................................................................................................................................................................................................................................................................................................................................................................................................................................................................................................................................................................................................................................................................................................................................................................................................................................................................................................................................................................got search interest by country and by time for: 1373 politicians\n"
     ]
    }
   ],
   "source": [
    "#Data Acquisition Task 2.1 and 2.2\n",
    "import os\n",
    "import urllib\n",
    "import json\n",
    "import pickle\n",
    "import pandas as pd\n",
    "from time import sleep\n",
    "\n",
    "# set useCachedGoogleTrends to False reaqquire thze date from google trends api(takes a long time because of a rate limit)\n",
    "useCachedGoogleTrends = True\n",
    "\n",
    "if (not useCachedGoogleTrends):\n",
    "    import pytrends\n",
    "    from pytrends.request import TrendReq\n",
    "\n",
    "dataDirectory=\"data\"\n",
    "#create a new directory for the data/interest_by_country\n",
    "countryDirectory=\"interest_by_country\"\n",
    "timeDirectory=\"interest_over_time\"\n",
    "meberListJsonPath=os.path.join(dataDirectory, \"memberList.json\")\n",
    "\n",
    "#create output data strcuture\n",
    "resultDataFrame = pd.DataFrame(columns=[\"uuid\",\"firstName\", \"lastName\", \"gender\", \"countryCount\", \"timeCount\"])\n",
    "\n",
    "\n",
    "#open members list containing the politicians\n",
    "with open(meberListJsonPath) as meberListJsonFile:\n",
    "    #load the local copy of the parliaments list file\n",
    "    members = json.load(meberListJsonFile)\n",
    "    \n",
    "    #for each politician, represented by the uuid\n",
    "    for memberUuid in members:\n",
    "        \n",
    "        countryPath=os.path.join(dataDirectory, countryDirectory, memberUuid+\".pickle\")\n",
    "        timePath=os.path.join(dataDirectory, timeDirectory, memberUuid+\".pickle\")\n",
    "        #get firstName, lastName and gender\n",
    "        firstName = members[memberUuid][\"firstName\"]\n",
    "        lastName = members[memberUuid][\"lastName\"]\n",
    "        gender = members[memberUuid][\"gender\"]\n",
    "        wordCount = members[memberUuid][\"wikipageWordCount\"]\n",
    "        parliamentCount = members[memberUuid][\"numberOfParliaments\"]\n",
    "\n",
    "        fullName = firstName +\" \" + lastName\n",
    "        \n",
    "        #use cached files if they exist and useCachedGoogleTrends=True\n",
    "        if (useCachedGoogleTrends and os.path.isfile(countryPath) and  os.path.isfile(timePath)): \n",
    "            #print progress\n",
    "            print('.', end='')\n",
    "            countryDataframe=pickle.load(open(countryPath, 'rb')) \n",
    "            timeDataframe=pickle.load(open(timePath, 'rb')) \n",
    "            \n",
    "        #if we have no saved file, do a google trebds request\n",
    "        else:\n",
    "            print(\"Working on \" +fullName)\n",
    "            #prepare the google trends request\n",
    "            pytrends = TrendReq(hl='de-DE', tz=360)\n",
    "            #we compare each politician to Angela Merkel\n",
    "            keywords = [fullName, \"Angela Merkel\"]\n",
    "            #cat=396 is the category for politics on google trends\n",
    "            pytrends.build_payload(keywords, cat=396, timeframe='today 5-y', geo='', gprop='')\n",
    "            countryDataframe = pd.DataFrame(pytrends.interest_by_region(resolution='COUNTRY'))\n",
    "            timeDataframe = pd.DataFrame(pytrends.interest_over_time())\n",
    "            \n",
    "            #save to disk\n",
    "            countryDataframe.to_pickle(countryPath)\n",
    "            timeDataframe.to_pickle(timePath)\n",
    "            \n",
    "            sleep(30)\n",
    "                \n",
    "        \n",
    "        #count in how many countries we have a search interest above zero\n",
    "        countryCount=len(countryDataframe[fullName].nonzero()[0])\n",
    "        timeCount=len(timeDataframe[fullName].nonzero()[0])\n",
    "        sumTimeCount=timeDataframe[fullName].mean()\n",
    "        #populate dataframe\n",
    "        resultDataFrame = resultDataFrame.append({\n",
    "            \"uuid\": memberUuid,\n",
    "            \"firstName\": firstName,\n",
    "            \"lastName\":lastName,\n",
    "            \"gender\": gender,\n",
    "            \"countryCount\": countryCount,\n",
    "            \"timeCount\": timeCount,\n",
    "            \"wordCount\": wordCount,\n",
    "            \"binaryGender\": 1 if gender==\"female\" else 0,\n",
    "            \"parliamentCount\": parliamentCount,\n",
    "            \"averageSearchInterestPerDay\": sumTimeCount\n",
    "        }, ignore_index=True)\n",
    "\n",
    "        \n",
    "#Save members list\n",
    "memberInterestListPath=os.path.join(dataDirectory,\"memberInterestList.pickle\")\n",
    "resultDataFrame.to_pickle(memberInterestListPath)\n",
    "print(\"got search interest by country and by time for: \"+str(len(resultDataFrame.index))+\" politicians\")"
   ]
  },
  {
   "cell_type": "code",
   "execution_count": 6,
   "metadata": {},
   "outputs": [],
   "source": [
    "#convert also save the data (interest_by_country,interest_over_time) as csv files\n",
    "#this was done after the painfull data acquisition from the rate limited google trend api.\n",
    "#so this is just code to convert from pickle to csv\n",
    "dataDirectory=\"data\"\n",
    "#create a new directory for the data/interest_by_country\n",
    "countryDirectory=\"interest_by_country\"\n",
    "timeDirectory=\"interest_over_time\"\n",
    "meberListJsonPath=os.path.join(dataDirectory, \"memberList.json\")\n",
    "\n",
    "#open members list containing the politicians\n",
    "with open(meberListJsonPath) as meberListJsonFile:\n",
    "    members = json.load(meberListJsonFile)\n",
    "    \n",
    "    #for each politician, represented by the uuid\n",
    "    for memberUuid in members:\n",
    "        timePath=os.path.join(dataDirectory, timeDirectory, memberUuid+\".pickle\")\n",
    "        timePathCsv=os.path.join(dataDirectory, timeDirectory, memberUuid+\".csv\")\n",
    "        df=pickle.load(open(timePath, 'rb'))\n",
    "        df.to_csv(timePathCsv)\n",
    "        \n",
    "        countryPath=os.path.join(dataDirectory, countryDirectory, memberUuid+\".pickle\")\n",
    "        countryPathCsv=os.path.join(dataDirectory, countryDirectory, memberUuid+\".csv\")\n",
    "        df2=pickle.load(open(countryPath, 'rb'))\n",
    "        df2.to_csv(countryPathCsv)\n"
   ]
  },
  {
   "cell_type": "markdown",
   "metadata": {},
   "source": [
    "# Task 2.1 (Interest by country)"
   ]
  },
  {
   "cell_type": "code",
   "execution_count": 7,
   "metadata": {},
   "outputs": [
    {
     "name": "stdout",
     "output_type": "stream",
     "text": [
      "Search interest from 0 countries, female:415 male: 853\n"
     ]
    },
    {
     "data": {
      "image/png": "[encoded data removed]",
      "text/plain": [
       "<matplotlib.figure.Figure at 0x7fed95f36470>"
      ]
     },
     "metadata": {},
     "output_type": "display_data"
    }
   ],
   "source": [
    "from sklearn import preprocessing\n",
    "\n",
    "#2.1 Plot the data\n",
    "%matplotlib inline\n",
    "import os\n",
    "import json\n",
    "import pickle\n",
    "import pandas as pd\n",
    "import numpy as np\n",
    "import matplotlib.pyplot as plt\n",
    "\n",
    "#load data\n",
    "dataDirectory=\"data\"\n",
    "df=pickle.load(open(os.path.join(dataDirectory,\"memberInterestList.pickle\"), 'rb')) \n",
    "\n",
    "#combine the dataframes\n",
    "counts=df.groupby([\"countryCount\",\"gender\"])[\"countryCount\"].count().drop([0]).unstack()\n",
    "plot=counts.plot(kind=\"bar\")\n",
    "\n",
    "#set labels\n",
    "plot.set_xlabel(\"Country Count with search interest\")\n",
    "plot.set_ylabel(\"Politician count\")\n",
    "\n",
    "#get ignored values\n",
    "femaleDropped=df[(df.gender==\"female\")][\"countryCount\"].value_counts()[0]\n",
    "maleDropped=df[(df.gender==\"male\")][\"countryCount\"].value_counts()[0]\n",
    "\n",
    "#add a remark that we removed 0 values\n",
    "plt.figtext(.62, .50, \" \"+str(femaleDropped)+ \" female and\\n \"+str(maleDropped)+\" male politians\\n with 0 search\\n interest are excluded\")\n",
    "print(\"Search interest from 0 countries, female:\"+ str(femaleDropped)+\" male: \"+str(maleDropped))"
   ]
  },
  {
   "cell_type": "markdown",
   "metadata": {},
   "source": [
    "# Linear regression "
   ]
  },
  {
   "cell_type": "markdown",
   "metadata": {},
   "source": [
    "# Task 2.2 (interest over time)"
   ]
  },
  {
   "cell_type": "code",
   "execution_count": 8,
   "metadata": {},
   "outputs": [
    {
     "name": "stdout",
     "output_type": "stream",
     "text": [
      "                                   uuid   firstName        lastName  gender  \\\n",
      "0  001007ba-e35a-4e69-9c66-e018823a62ef     Mathias           Stein    male   \n",
      "1  0077079d-5136-4c5a-96c0-ef8ee76ccfe3        Ulli          Nissen  female   \n",
      "2  00c1508c-e69f-4813-9bd9-4607b9d8d9a7  Heidemarie  Wieczorek-Zeul  female   \n",
      "3  00e01ad7-e772-4198-b964-8ae1e5cd7e6c     Florian          Toncar    male   \n",
      "4  014490fc-3403-4255-b92d-175816269937      Ursula  Groden-Kranich  female   \n",
      "\n",
      "  countryCount timeCount  averageSearchInterestPerDay  binaryGender  \\\n",
      "0            0         0                     0.000000           0.0   \n",
      "1            0         0                     0.000000           1.0   \n",
      "2            0         1                     0.003831           1.0   \n",
      "3            0         0                     0.000000           0.0   \n",
      "4            0         0                     0.000000           1.0   \n",
      "\n",
      "   parliamentCount  wordCount  \n",
      "0              1.0      275.0  \n",
      "1              2.0      487.0  \n",
      "2              2.0     2613.0  \n",
      "3              3.0      567.0  \n",
      "4              2.0      424.0  \n"
     ]
    },
    {
     "data": {
      "image/png": "[encoded data removed]",
      "text/plain": [
       "<matplotlib.figure.Figure at 0x7fed5c5684a8>"
      ]
     },
     "metadata": {},
     "output_type": "display_data"
    }
   ],
   "source": [
    "#2.2 Plot the data\n",
    "%matplotlib inline\n",
    "import os\n",
    "import json\n",
    "import pickle\n",
    "import pandas as pd\n",
    "import numpy as np\n",
    "import matplotlib.pyplot as plt\n",
    "\n",
    "#load data\n",
    "dataDirectory=\"data\"\n",
    "df=pickle.load(open(os.path.join(dataDirectory,\"memberInterestList.pickle\"), 'rb')) \n",
    "\n",
    "#split by gender\n",
    "#TODO: im not sure about this\n",
    "df[df[\"timeCount\"]>0].boxplot(column=\"timeCount\",by=\"gender\",showfliers=False)\n",
    "\n",
    "#set labels\n",
    "plot.set_xlabel(\"Gender\")\n",
    "plot.set_ylabel(\"Number of weeks\")\n",
    "\n",
    "#get ignored values\n",
    "#femaleDropped=len(df[((df.gender==\"female\") & (df.timeCount==\"0\"))])\n",
    "#maleDropped=len(df[((df.gender==\"male\") & (df.timeCount==\"0\"))])\n",
    "\n",
    "#add a remark that we removed 0 values\n",
    "#plt.figtext(.7, .6, \" politians with 0\\n weeks of search\\n interest are\\n excluded\")\n",
    "\n",
    "#print(\"Search interest of 0 weeks, female:\"+ str(femaleDropped)+\" male: \"+str(maleDropped))\n",
    "\n",
    "#debug\n",
    "print(df.head(5))"
   ]
  },
  {
   "cell_type": "markdown",
   "metadata": {},
   "source": [
    "# Linear Regression\n",
    "## Independent Variable\n",
    "\n",
    "- timeCount (Average search interest over time)\n",
    "- countryCount (Number of countries where the search interest is above 1)\n",
    "- gender\n",
    "- parliamentCount (Number of parliaments the member was in)\n",
    "- constant (intercept)\n",
    "\n",
    "## Dependent Variable\n",
    "- y_wordCount Article length (as described above)​\n",
    "<pre>\n",
    "y_wordCount = β0 + β1 * x_countryCount + β2 * x_timeCount  + β3 * x_gender + β4 * x_parliamentCount\n",
    "</pre>"
   ]
  },
  {
   "cell_type": "code",
   "execution_count": 19,
   "metadata": {},
   "outputs": [],
   "source": [
    "###\n",
    "### More manual approach\n",
    "###\n",
    "from sklearn.linear_model import LinearRegression\n",
    "def linearRegression(y,X):\n",
    "    lm = LinearRegression()\n",
    "    lm.fit(X,y)\n",
    "    params = np.append(lm.intercept_,lm.coef_)\n",
    "    predictions = lm.predict(X)\n",
    "\n",
    "    modX = pd.DataFrame({\"Constant\":np.ones(len(X))}).join(pd.DataFrame(X))\n",
    "    MSE = (sum((y-predictions)**2))/(len(modX)-len(modX.columns))\n",
    "\n",
    "    var_b = MSE*(np.linalg.inv(np.dot(modX.T,newX)).diagonal())\n",
    "    sd_b = np.sqrt(var_b)\n",
    "    ts_b = params/ sd_b\n",
    "\n",
    "    p_values =[2*(1-stats.t.cdf(np.abs(i),(len(newX)-1))) for i in ts_b]\n",
    "\n",
    "    sd_b = np.round(sd_b,3)\n",
    "    ts_b = np.round(ts_b,3)\n",
    "    p_values = np.round(p_values,3)\n",
    "    params = np.round(params,4)\n",
    "\n",
    "    myDF3 = pd.DataFrame()\n",
    "    myDF3[\"Coefficients\"],myDF3[\"Standard Errors\"],myDF3[\"t values\"],myDF3[\"Probabilites\"] = [params,sd_b,ts_b,p_values]\n",
    "    print(myDF3)"
   ]
  },
  {
   "cell_type": "code",
   "execution_count": 32,
   "metadata": {
    "scrolled": false
   },
   "outputs": [
    {
     "name": "stdout",
     "output_type": "stream",
     "text": [
      "                            OLS Regression Results                            \n",
      "==============================================================================\n",
      "Dep. Variable:              wordCount   R-squared:                       0.344\n",
      "Model:                            OLS   Adj. R-squared:                  0.342\n",
      "Method:                 Least Squares   F-statistic:                     179.2\n",
      "Date:                Mon, 23 Jul 2018   Prob (F-statistic):          1.61e-123\n",
      "Time:                        18:41:17   Log-Likelihood:                -11394.\n",
      "No. Observations:                1373   AIC:                         2.280e+04\n",
      "Df Residuals:                    1368   BIC:                         2.282e+04\n",
      "Df Model:                           4                                         \n",
      "Covariance Type:            nonrobust                                         \n",
      "===============================================================================================\n",
      "                                  coef    std err          t      P>|t|      [0.025      0.975]\n",
      "-----------------------------------------------------------------------------------------------\n",
      "const                         504.5906     58.500      8.626      0.000     389.832     619.349\n",
      "countryCount                  272.0322     19.017     14.305      0.000     234.726     309.338\n",
      "averageSearchInterestPerDay   -88.3867    105.945     -0.834      0.404    -296.219     119.445\n",
      "binaryGender                 -125.9292     56.136     -2.243      0.025    -236.051     -15.808\n",
      "parliamentCount               119.5766     25.574      4.676      0.000      69.409     169.745\n",
      "==============================================================================\n",
      "Omnibus:                     1860.632   Durbin-Watson:                   2.067\n",
      "Prob(Omnibus):                  0.000   Jarque-Bera (JB):           464629.375\n",
      "Skew:                           7.390   Prob(JB):                         0.00\n",
      "Kurtosis:                      91.900   Cond. No.                         11.4\n",
      "==============================================================================\n",
      "\n",
      "Warnings:\n",
      "[1] Standard Errors assume that the covariance matrix of the errors is correctly specified.\n",
      "   Coefficients  Standard Errors  t values  Probabilites\n",
      "0      504.5906           58.500     8.626         0.000\n",
      "1      272.0322           19.017    14.305         0.000\n",
      "2      -88.3867          105.945    -0.834         0.404\n",
      "3     -125.9292           56.136    -2.243         0.025\n",
      "4      119.5766           25.574     4.676         0.000\n"
     ]
    }
   ],
   "source": [
    "### Linear Regression based on the sklearn library\n",
    "\n",
    "from sklearn import datasets, linear_model\n",
    "\n",
    "import statsmodels.api as sm\n",
    "from scipy import stats\n",
    "import pickle\n",
    "dataDirectory=\"data\"\n",
    "\n",
    "# load our dataframe from a saved pickle\n",
    "df=pickle.load(open(os.path.join(dataDirectory,\"memberInterestList.pickle\"), 'rb')) \n",
    "\n",
    "# Fill NaN with 0 For possible errors during scraping\n",
    "df0 = df.fillna(0)\n",
    "\n",
    "# Define independet variables within the pandas dataframe\n",
    "X = df0[['countryCount','averageSearchInterestPerDay','binaryGender','parliamentCount']]\n",
    "\n",
    "# Define the dependet variable\n",
    "y = df0['wordCount']\n",
    "\n",
    "# Adding a constant to our linear regression\n",
    "X2 = sm.add_constant(X)\n",
    "\n",
    "# Compute the linear regression and printing it\n",
    "model = sm.OLS(y, X2).fit()\n",
    "predictions = model.predict(X2)\n",
    "print(model.summary())\n",
    "\n",
    "# Saving Output as CSV File to our data directory\n",
    "write_path = 'data/result_regression.csv'\n",
    "with open(write_path, 'w') as f:\n",
    "    f.write(model.summary().as_csv())\n",
    "\n",
    "###\n",
    "### Other approach - see above\n",
    "###\n",
    "linearRegression(y,X)\n"
   ]
  },
  {
   "cell_type": "markdown",
   "metadata": {},
   "source": [
    "## Graphs\n",
    "    The graph were generated using the seaborn visualizaiton library\n",
    "### Normal scattered graph with no regression line"
   ]
  },
  {
   "cell_type": "code",
   "execution_count": 26,
   "metadata": {},
   "outputs": [
    {
     "data": {
      "text/plain": [
       "<seaborn.axisgrid.PairGrid at 0x7fed4d454f98>"
      ]
     },
     "execution_count": 26,
     "metadata": {},
     "output_type": "execute_result"
    },
    {
     "data": {
      "image/png": "[encoded data removed]",
      "text/plain": [
       "<matplotlib.figure.Figure at 0x7fed4d454a90>"
      ]
     },
     "metadata": {},
     "output_type": "display_data"
    }
   ],
   "source": [
    "import seaborn as sns\n",
    "#df0 = df0[(df.T != 0).any()]\n",
    "sns.pairplot(df0, x_vars=['countryCount','averageSearchInterestPerDay','binaryGender','parliamentCount'], y_vars='wordCount', size=6, aspect=0.6)"
   ]
  },
  {
   "cell_type": "markdown",
   "metadata": {},
   "source": [
    "### Scattered graph with regression line"
   ]
  },
  {
   "cell_type": "code",
   "execution_count": 29,
   "metadata": {},
   "outputs": [
    {
     "data": {
      "text/plain": [
       "<seaborn.axisgrid.PairGrid at 0x7fed4c4f24e0>"
      ]
     },
     "execution_count": 29,
     "metadata": {},
     "output_type": "execute_result"
    },
    {
     "data": {
      "image/png": "[encoded data removed]",
      "text/plain": [
       "<matplotlib.figure.Figure at 0x7fed4c4db4e0>"
      ]
     },
     "metadata": {},
     "output_type": "display_data"
    }
   ],
   "source": [
    "import seaborn as sns\n",
    "sns.pairplot(df0, x_vars=['countryCount','averageSearchInterestPerDay','binaryGender','parliamentCount'], y_vars='wordCount', size=7, aspect=0.6, kind='reg')"
   ]
  },
  {
   "cell_type": "markdown",
   "metadata": {},
   "source": [
    "#### Additional Linear Regression\n",
    "This regression has been done due to the reason that the average Search Interest per day wasn't significant to the model, but the coefficiants and standard errors are not that different."
   ]
  },
  {
   "cell_type": "code",
   "execution_count": 21,
   "metadata": {
    "scrolled": false
   },
   "outputs": [
    {
     "name": "stdout",
     "output_type": "stream",
     "text": [
      "                            OLS Regression Results                            \n",
      "==============================================================================\n",
      "Dep. Variable:              wordCount   R-squared:                       0.344\n",
      "Model:                            OLS   Adj. R-squared:                  0.342\n",
      "Method:                 Least Squares   F-statistic:                     238.8\n",
      "Date:                Mon, 23 Jul 2018   Prob (F-statistic):          1.35e-124\n",
      "Time:                        18:36:52   Log-Likelihood:                -11394.\n",
      "No. Observations:                1373   AIC:                         2.280e+04\n",
      "Df Residuals:                    1369   BIC:                         2.282e+04\n",
      "Df Model:                           3                                         \n",
      "Covariance Type:            nonrobust                                         \n",
      "===================================================================================\n",
      "                      coef    std err          t      P>|t|      [0.025      0.975]\n",
      "-----------------------------------------------------------------------------------\n",
      "const             506.1883     58.462      8.658      0.000     391.504     620.873\n",
      "countryCount      258.5894     10.099     25.605      0.000     238.778     278.401\n",
      "binaryGender     -128.2387     56.061     -2.287      0.022    -238.214     -18.263\n",
      "parliamentCount   120.3204     25.555      4.708      0.000      70.189     170.452\n",
      "==============================================================================\n",
      "Omnibus:                     1864.776   Durbin-Watson:                   2.068\n",
      "Prob(Omnibus):                  0.000   Jarque-Bera (JB):           466621.836\n",
      "Skew:                           7.422   Prob(JB):                         0.00\n",
      "Kurtosis:                      92.085   Cond. No.                         7.05\n",
      "==============================================================================\n",
      "\n",
      "Warnings:\n",
      "[1] Standard Errors assume that the covariance matrix of the errors is correctly specified.\n",
      "   Coefficients  Standard Errors  t values  Probabilites\n",
      "0      506.1883           58.462     8.658         0.000\n",
      "1      258.5894           10.099    25.605         0.000\n",
      "2     -128.2387           56.061    -2.287         0.022\n",
      "3      120.3204           25.555     4.708         0.000\n"
     ]
    }
   ],
   "source": [
    "from sklearn import datasets, linear_model\n",
    "from sklearn.linear_model import LinearRegression\n",
    "import statsmodels.api as sm\n",
    "from scipy import stats\n",
    "import pickle\n",
    "dataDirectory=\"data\"\n",
    "df=pickle.load(open(os.path.join(dataDirectory,\"memberInterestList.pickle\"), 'rb')) \n",
    "\n",
    "#print(df)\n",
    "df0 = df.fillna(0)\n",
    "#print(df0)\n",
    "df=df.replace(0, np.nan)\n",
    "#print(df.head)\n",
    "X = df0[['countryCount','binaryGender','parliamentCount']]\n",
    "y = df0['wordCount']\n",
    "X2 = sm.add_constant(X)\n",
    "\n",
    "model = sm.OLS(y, X2).fit()\n",
    "predictions = model.predict(X2)\n",
    "print(model.summary())\n",
    "write_path = 'data/result_regression_edited.csv'\n",
    "with open(write_path, 'w') as f:\n",
    "    f.write(model.summary().as_csv())\n",
    "\n",
    "### Second Approach - not needed\n",
    "linearRegression(y,X)"
   ]
  }
 ],
 "metadata": {
  "kernelspec": {
   "display_name": "Python 3",
   "language": "python",
   "name": "python3"
  },
  "language_info": {
   "codemirror_mode": {
    "name": "ipython",
    "version": 3
   },
   "file_extension": ".py",
   "mimetype": "text/x-python",
   "name": "python",
   "nbconvert_exporter": "python",
   "pygments_lexer": "ipython3",
   "version": "3.6.4"
  }
 },
 "nbformat": 4,
 "nbformat_minor": 2
}
